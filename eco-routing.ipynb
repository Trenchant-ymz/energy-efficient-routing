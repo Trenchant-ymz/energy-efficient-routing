{
 "cells": [
  {
   "cell_type": "markdown",
   "metadata": {},
   "source": [
    "# Physics-guided Energy-efficient Path Selection Using On-board Diagnostics Data"
   ]
  },
  {
   "cell_type": "markdown",
   "metadata": {},
   "source": [
    "“path + another path” pattern\n",
    "\n",
    "Based on generating the MFPG for the spatial graph from OBD data\n",
    "\n",
    "**Two Tasks:**\n",
    "\n",
    "1. Estimating the energy consumption of a vehicle along a set of paths.\n",
    "\n",
    "2. Selecting the most energy-efficient path for that vehicle.\n",
    "\n",
    "**Questions:** \n",
    "\n",
    "1. How does the mass influence the energy efficient path?\n",
    "\n",
    "2. How can we find the energy efficient path which is not in OBD data?\n",
    "\n",
    "3. If the input (1) of the problem is changed to a set of historical trajectories ***with different mass***, then how can we find an energy efficient path for trucks with different mass?\n",
    "\n",
    "zlfxbd"
   ]
  },
  {
   "cell_type": "markdown",
   "metadata": {},
   "source": []
  }
 ],
 "metadata": {
  "kernelspec": {
   "display_name": "Python 3",
   "language": "python",
   "name": "python3"
  },
  "language_info": {
   "codemirror_mode": {
    "name": "ipython",
    "version": 3
   },
   "file_extension": ".py",
   "mimetype": "text/x-python",
   "name": "python",
   "nbconvert_exporter": "python",
   "pygments_lexer": "ipython3",
   "version": "3.7.3"
  }
 },
 "nbformat": 4,
 "nbformat_minor": 2
}