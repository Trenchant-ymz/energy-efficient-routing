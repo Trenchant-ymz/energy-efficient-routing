{
 "cells": [
  {
   "cell_type": "markdown",
   "metadata": {},
   "source": [
    "# Physics-guided Energy-efficient Path Selection Using On-board Diagnostics Data"
   ]
  },
  {
   "cell_type": "markdown",
   "metadata": {},
   "source": [
    "“path + another path” pattern\n",
    "\n",
    "Based on generating the MFPG for the spatial graph from OBD data\n",
    "\n",
    "### Two Tasks:\n",
    "\n",
    "1. Estimating the energy consumption of a vehicle along a set of paths.(**Challenges**)\n",
    "\n",
    "2. Selecting the most energy-efficient path for that vehicle.(Well-done, A*-similar algorithm)\n",
    "\n",
    "### Questions:\n",
    "\n",
    "1. How does the mass influence the energy efficient path?\n",
    "\n",
    "2. How can we find the energy efficient path which is not in OBD data?\n",
    "\n",
    "3. If the input of the problem is changed to a set of historical trajectories ***with different mass***, then how can we find an energy efficient path for trucks with different mass?\n",
    "\n",
    "### Challenges\n",
    "\n",
    "1. How do we estimate the energy consumption of a truck whose mass is *m* based on a set of historical trajectories with different mass? (Physics-guided Energy-efficient Path Selection: A Summary of Results, *SIGSPATIAL*' 18)\n",
    "\n",
    "\n",
    "\n",
    "2. How do we estimate the energy consumption of a path which is not in OBD data? \n",
    "\n",
    "\n"
   ]
  },
  {
   "cell_type": "markdown",
   "metadata": {},
   "source": [
    "## SIGSPATIAL' 18: Physics-guided Energy-efficient Path Selection: A Summary of Results\n",
    "\n",
    "$$c =  EAIR + VP \\times MP$$\n",
    "\n",
    "For a certain path, clustering trajectories of this path into *k* scenarios according to the estimation of their *EAIR* and *MP*. Then, we predict the scenario and the *VP* for a truck  based on ***its historical data***, and we can use the equation to calculate the enengy consumption. For a union path, a scenario on $P_i$ is similar to a scenario on $P_{i+1}$ when the enengy consumption reprsented by the two scenarios' signature functions are similar on the shared road segments.\n",
    "\n",
    "### Question\n",
    "\n",
    "1. Can we use the trajectory data from other paths to estimate the enengy consumption of a certain path? Ans: No\n",
    "2. We need to know the energy consumption of the first two road segments. What if we donot know it? How can we predict the parameters in this case?"
   ]
  },
  {
   "cell_type": "code",
   "execution_count": null,
   "metadata": {},
   "outputs": [],
   "source": []
  }
 ],
 "metadata": {
  "kernelspec": {
   "display_name": "Python 3",
   "language": "python",
   "name": "python3"
  },
  "language_info": {
   "codemirror_mode": {
    "name": "ipython",
    "version": 3
   },
   "file_extension": ".py",
   "mimetype": "text/x-python",
   "name": "python",
   "nbconvert_exporter": "python",
   "pygments_lexer": "ipython3",
   "version": "3.7.3-final"
  }
 },
 "nbformat": 4,
 "nbformat_minor": 2
}